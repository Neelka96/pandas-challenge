{
 "cells": [
  {
   "cell_type": "markdown",
   "metadata": {},
   "source": [
    "# PyCity Schools Analysis\n",
    "\n",
    "---\n",
    "\n",
    "## District Summary:"
   ]
  },
  {
   "cell_type": "code",
   "execution_count": 1,
   "metadata": {},
   "outputs": [],
   "source": [
    "# Import Dependecies\n",
    "import pandas as pd\n",
    "from pathlib import Path"
   ]
  },
  {
   "cell_type": "code",
   "execution_count": 2,
   "metadata": {},
   "outputs": [],
   "source": [
    "# Set Path variables for OS indepence\n",
    "schoolData_Path = Path(\"Resources/schools_complete.csv\")\n",
    "studentData_Path = Path(\"Resources/students_complete.csv\")\n",
    "\n",
    "# Read-in CSVs and convert to Pandas DataFrame objects\n",
    "org_schoolDF = pd.read_csv(schoolData_Path)\n",
    "org_studentDF = pd.read_csv(studentData_Path)"
   ]
  },
  {
   "cell_type": "code",
   "execution_count": 3,
   "metadata": {},
   "outputs": [],
   "source": [
    "# Renaming Columns based off my own personal preference\n",
    "org_schoolDF = org_schoolDF.rename(columns = {\n",
    "    \"school_name\": \"School Name\",\n",
    "    \"type\": \"Type\",\n",
    "    \"size\": \"Size\",\n",
    "    \"budget\": \"Budget\"})\n",
    "\n",
    "org_studentDF = org_studentDF.rename(columns = {\n",
    "    \"student_name\": \"Student Name\",\n",
    "    \"gender\": \"Gender\",\n",
    "    \"grade\": \"Grade\",\n",
    "    \"school_name\": \"School Name\",\n",
    "    \"reading_score\": \"Reading Score\",\n",
    "    \"math_score\": \"Math Score\"})"
   ]
  },
  {
   "cell_type": "code",
   "execution_count": null,
   "metadata": {},
   "outputs": [],
   "source": [
    "# Merging the two DataFrames by School name, using student DataFrame rows as keys\n",
    "merge_stu_sch_DF = pd.merge(org_studentDF, org_schoolDF,\n",
    "                                    how = \"left\", on = \"School Name\")\n",
    "mainDF = merge_stu_sch_DF.copy()\n",
    "mainDF"
   ]
  },
  {
   "cell_type": "code",
   "execution_count": null,
   "metadata": {},
   "outputs": [],
   "source": [
    "# Calculate the total number of unique schools:\n",
    "# ---------------------------------------------\n",
    "# As usual, there are a lot of methods to calculate the number of unique schools & students\n",
    "# 1)\n",
    "#   totalSchools = mainDF[\"School Name\"].nunique()\n",
    "#   totalSchools\n",
    "# 2)\n",
    "#   totalSchools = len(org_schoolDF)\n",
    "#   totalSchools\n",
    "\n",
    "# My preferred method based off of current knowledge and desire to work with current DF\n",
    "totalSchools = len(mainDF[\"School Name\"].unique())\n",
    "totalSchools"
   ]
  },
  {
   "cell_type": "code",
   "execution_count": null,
   "metadata": {},
   "outputs": [],
   "source": [
    "# Calculate the total number of students:\n",
    "# ---------------------------------------------\n",
    "# 1)\n",
    "#   totalStudents = mainDF[\"Student Name\"].nunique()\n",
    "#   totalStudents\n",
    "# 2)\n",
    "#   totalStudents = mainDF.iloc[-1,:][\"Student ID\"]\n",
    "#   print(totalStudents + 1)\n",
    "totalStudents = len(mainDF[\"Student ID\"].unique())\n",
    "totalStudents"
   ]
  },
  {
   "cell_type": "code",
   "execution_count": null,
   "metadata": {},
   "outputs": [],
   "source": [
    "# # Calculate the total budget\n",
    "totalBudget = org_schoolDF[\"Budget\"].sum()\n",
    "totalBudget"
   ]
  },
  {
   "cell_type": "code",
   "execution_count": null,
   "metadata": {},
   "outputs": [],
   "source": [
    "# Calculate the average (mean) math score\n",
    "avgMathScore = mainDF[\"Math Score\"].mean()\n",
    "avgMathScore"
   ]
  },
  {
   "cell_type": "code",
   "execution_count": null,
   "metadata": {},
   "outputs": [],
   "source": [
    "# Calculate the average (mean) reading score\n",
    "avgReadScore = mainDF[\"Reading Score\"].mean()\n",
    "avgReadScore"
   ]
  },
  {
   "cell_type": "code",
   "execution_count": null,
   "metadata": {},
   "outputs": [],
   "source": [
    "# Use the following to calculate the percentage of students who passed math (math scores greather than or equal to 70):\n",
    "#                         |Defaults to .loc method      |Assumes no NaNs, then just selects a specific cell (hierarchy inversion)\n",
    "# percentPassMath = mainDF[(mainDF[\"Math Score\"] >= 70)].count()[\"Student ID\"]\n",
    "# percentPassMath = percentPassMath / float(totalStudents) * 100\n",
    "# print(percentPassMath)\n",
    "# ---------------------------------------------------------------\n",
    "# Method I procedurally wrote without looking at formula given:\n",
    "percentPass_math = mainDF.loc[mainDF[\"Math Score\"] >= 70, :]\n",
    "percentPass_math = (len(percentPass_math) / totalStudents) * 100\n",
    "percentPass_math"
   ]
  },
  {
   "cell_type": "code",
   "execution_count": null,
   "metadata": {},
   "outputs": [],
   "source": [
    "# Calculate the percentage of students who passed reading (hint: look at how the math percentage was calculated)\n",
    "percentPass_read = mainDF[mainDF[\"Reading Score\"] >= 70].count()[\"Student ID\"]\n",
    "percentPass_read = (percentPass_read / totalStudents) * 100\n",
    "percentPass_read"
   ]
  },
  {
   "cell_type": "code",
   "execution_count": null,
   "metadata": {},
   "outputs": [],
   "source": [
    "# Use the following to calculate the percentage of students that passed math and reading\n",
    "percentPass_both = mainDF[(mainDF[\"Reading Score\"] >= 70) & (mainDF[\"Math Score\"] >= 70)].count()[\"Student ID\"]\n",
    "percentPass_both = (percentPass_both / totalStudents) * 100\n",
    "percentPass_both"
   ]
  },
  {
   "cell_type": "code",
   "execution_count": null,
   "metadata": {},
   "outputs": [],
   "source": [
    "# Delete previous mainDF, revert back to merge_stu_sch_DF for the complete merged DataFrame of students and schools\n",
    "del mainDF\n",
    "\n",
    "# Create a high-level snapshot of the district's key metrics in a DataFrame\n",
    "districtSnap_DF = pd.DataFrame(\n",
    "    [\n",
    "        {\n",
    "            \"Total Schools\": totalSchools,\n",
    "            \"Total Students\": totalStudents,\n",
    "            \"Total Budget\": totalBudget,\n",
    "            \"Average Math Score\": avgMathScore,\n",
    "            \"Average Reading Score\": avgReadScore,\n",
    "            \"% Passing Math\": percentPass_math,\n",
    "            \"% Passing Reading\": percentPass_read,\n",
    "            \"% Overall Passing\": percentPass_both\n",
    "        }\n",
    "    ]\n",
    ")\n",
    "# Formatting\n",
    "floatNumList = [\"Average Math Score\", \"Average Reading Score\"]\n",
    "percentScoresList = [\"% Passing Math\", \"% Passing Reading\", \"% Overall Passing\"]\n",
    "\n",
    "districtSnap_DF[\"Total Students\"] = districtSnap_DF[\"Total Students\"].map(\"{:,}\".format)\n",
    "districtSnap_DF[\"Total Budget\"] = districtSnap_DF[\"Total Budget\"].map(\"${:,.2f}\".format)\n",
    "districtSnap_DF[floatNumList] = districtSnap_DF[floatNumList].map(\"{:,.5f}\".format)\n",
    "districtSnap_DF[percentScoresList] = districtSnap_DF[percentScoresList].map(\"{:,.5f}\".format)\n",
    "districtSnap_DF = districtSnap_DF.set_index(\"Total Students\")\n",
    "del floatNumList, percentScoresList\n",
    "## Display the DataFrame\n",
    "display(districtSnap_DF)"
   ]
  },
  {
   "cell_type": "markdown",
   "metadata": {},
   "source": [
    "## School Summary:"
   ]
  },
  {
   "cell_type": "code",
   "execution_count": null,
   "metadata": {},
   "outputs": [],
   "source": [
    "# Use the code provided to select the type per school from school_data (original school DataFrame)\n",
    "type_perSchool = org_schoolDF.set_index([\"School Name\"])[\"Type\"]\n",
    "type_perSchool"
   ]
  },
  {
   "cell_type": "code",
   "execution_count": null,
   "metadata": {},
   "outputs": [],
   "source": [
    "# Calculate the total student count per school from school_data\n",
    "size_perSchool = org_schoolDF.set_index([\"School Name\"])[\"Size\"]\n",
    "size_perSchool"
   ]
  },
  {
   "cell_type": "code",
   "execution_count": 16,
   "metadata": {},
   "outputs": [],
   "source": [
    "# Calculate the total school budget and per capita spending per school from school_data\n",
    "budget_perSchool = org_schoolDF.set_index(\"School Name\")[\"Budget\"]\n",
    "\n",
    "capita_perSchool = budget_perSchool / size_perSchool\n",
    "capita_perSchool = capita_perSchool.rename(\"Per Capita\")\n",
    "\n",
    "# <--- DELETE\n",
    "# display(capita_perSchool)\n",
    "# DELETE --->"
   ]
  },
  {
   "cell_type": "code",
   "execution_count": 17,
   "metadata": {},
   "outputs": [],
   "source": [
    "# Calculate the average test scores per school from school_data_complete\n",
    "avgMath_perSch = merge_stu_sch_DF.groupby(\"School Name\")[\"Math Score\"].mean()\n",
    "avgRead_perSch = merge_stu_sch_DF.groupby(\"School Name\")[\"Reading Score\"].mean()\n",
    "\n",
    "# <--- DELETE\n",
    "# display(avgMath_perSch)\n",
    "# display(avgRead_perSch)\n",
    "# DELETE --->"
   ]
  },
  {
   "cell_type": "code",
   "execution_count": null,
   "metadata": {},
   "outputs": [],
   "source": [
    "# Calculate the number of students per school with math scores of 70 or higher from school_data_complete\n",
    "passMath_perSch = merge_stu_sch_DF.loc[merge_stu_sch_DF[\"Math Score\"] >= 70, :]\n",
    "passMath_perSch = passMath_perSch.groupby(\"School Name\")[\"Math Score\"].count()\n",
    "passMath_perSch"
   ]
  },
  {
   "cell_type": "code",
   "execution_count": null,
   "metadata": {},
   "outputs": [],
   "source": [
    "# Calculate the number of students per school with reading scores of 70 or higher from school_data_complete\n",
    "passRead_perSch = merge_stu_sch_DF.loc[merge_stu_sch_DF[\"Reading Score\"] >= 70, :]\n",
    "passRead_perSch = passRead_perSch.groupby(\"School Name\")[\"Reading Score\"].count()\n",
    "passRead_perSch"
   ]
  },
  {
   "cell_type": "code",
   "execution_count": null,
   "metadata": {},
   "outputs": [],
   "source": [
    "# Use the provided code to calculate the number of students per school that passed both math and reading with scores of 70 or higher\n",
    "passBoth_perSch = merge_stu_sch_DF.loc[((merge_stu_sch_DF[\"Math Score\"] >= 70) & (merge_stu_sch_DF[\"Reading Score\"] >= 70)), :]\n",
    "passBoth_perSch = passBoth_perSch.groupby(\"School Name\")[\"Student ID\"].count()\n",
    "passBoth_perSch"
   ]
  },
  {
   "cell_type": "code",
   "execution_count": 21,
   "metadata": {},
   "outputs": [],
   "source": [
    "# Use the provided code to calculate the passing rates\n",
    "passMath_perSch_rate = passMath_perSch / size_perSchool * 100\n",
    "passRead_perSch_rate = passRead_perSch / size_perSchool * 100\n",
    "passBoth_perSch_rate = passBoth_perSch / size_perSchool * 100"
   ]
  },
  {
   "cell_type": "code",
   "execution_count": null,
   "metadata": {},
   "outputs": [],
   "source": [
    "# Create a DataFrame called `per_school_summary` with columns for the calculations above.\n",
    "per_school_summary = pd.merge(type_perSchool, size_perSchool, how = \"outer\", on = \"School Name\")\n",
    "per_school_summary = per_school_summary.join([budget_perSchool, capita_perSchool, avgMath_perSch, avgRead_perSch, \n",
    "                                            passMath_perSch_rate, passRead_perSch_rate, passBoth_perSch_rate], how = \"outer\")\n",
    "\n",
    "# Formatting - Renaming and adding numerical symbols\n",
    "per_school_summary = per_school_summary.rename(columns = {\n",
    "    \"Type\": \"School Type\",\n",
    "    \"Size\": \"Total Students\",\n",
    "    \"Budget\": \"Total School Budget\",\n",
    "    \"Per Capita\": \"Per Student Budget\",\n",
    "    \"Math Score\": \"Average Math Score\",\n",
    "    \"Reading Score\": \"Average Reading Score\",\n",
    "    0: \"% Passing Math\",\n",
    "    1: \"% Passing Reading\",\n",
    "    2: \"% Overall Passing\"\n",
    "})\n",
    "\n",
    "floatCurrency_list = [\"Total School Budget\", \"Per Student Budget\"]\n",
    "float_list = [\"Average Math Score\", \"Average Reading Score\", \n",
    "                \"% Passing Math\", \"% Passing Reading\", \"% Overall Passing\"]\n",
    "\n",
    "per_school_summary[floatCurrency_list] = per_school_summary[floatCurrency_list].map(\"${:,.2f}\".format)\n",
    "\n",
    "# Display the DataFrame\n",
    "display(per_school_summary)"
   ]
  },
  {
   "cell_type": "markdown",
   "metadata": {},
   "source": [
    "## Highest-Performing Schools (by % Overall Passing)"
   ]
  },
  {
   "cell_type": "code",
   "execution_count": null,
   "metadata": {},
   "outputs": [],
   "source": [
    "# Sort the schools by `% Overall Passing` in descending order and display the top 5 rows.\n"
   ]
  },
  {
   "cell_type": "markdown",
   "metadata": {},
   "source": [
    "## Bottom Performing Schools (by % Overall Passing)"
   ]
  },
  {
   "cell_type": "code",
   "execution_count": null,
   "metadata": {},
   "outputs": [],
   "source": [
    "# Sort the schools by `% Overall Passing` in ascending order and display the top 5 rows.\n"
   ]
  },
  {
   "cell_type": "markdown",
   "metadata": {},
   "source": [
    "## Math Scores by Grade"
   ]
  },
  {
   "cell_type": "code",
   "execution_count": null,
   "metadata": {},
   "outputs": [],
   "source": [
    "# Use the code provided to separate the data by grade\n",
    "\n",
    "# Group by `school_name` and take the mean of the `math_score` column for each.\n",
    "\n",
    "# Combine each of the scores above into single DataFrame called `math_scores_by_grade`\n",
    "\n",
    "# Minor data wrangling\n",
    "\n",
    "# Display the DataFrame\n"
   ]
  },
  {
   "cell_type": "markdown",
   "metadata": {},
   "source": [
    "## Reading Scores by Grade"
   ]
  },
  {
   "cell_type": "code",
   "execution_count": null,
   "metadata": {},
   "outputs": [],
   "source": [
    "# Use the code provided to separate the data by grade\n",
    "\n",
    "# Group by `school_name` and take the mean of the the `reading_score` column for each.\n",
    "\n",
    "# Combine each of the scores above into single DataFrame called `reading_scores_by_grade`\n",
    "\n",
    "# Minor data wrangling\n",
    "\n",
    "# Display the DataFrame\n"
   ]
  },
  {
   "cell_type": "markdown",
   "metadata": {},
   "source": [
    "## Scores by School Spending"
   ]
  },
  {
   "cell_type": "code",
   "execution_count": null,
   "metadata": {},
   "outputs": [],
   "source": [
    "# Establish the bins\n"
   ]
  },
  {
   "cell_type": "code",
   "execution_count": null,
   "metadata": {},
   "outputs": [],
   "source": [
    "# Create a copy of the school summary for later aggregations\n"
   ]
  },
  {
   "cell_type": "code",
   "execution_count": null,
   "metadata": {},
   "outputs": [],
   "source": [
    "# Use `pd.cut` on the per_school_capita Series from earlier to categorize per student spending based on the bins.\n",
    "\n",
    "# Convert Spending Ranges (Per Student) to a string\n"
   ]
  },
  {
   "cell_type": "code",
   "execution_count": null,
   "metadata": {},
   "outputs": [],
   "source": [
    "#  Calculate averages for the desired columns.\n"
   ]
  },
  {
   "cell_type": "code",
   "execution_count": null,
   "metadata": {},
   "outputs": [],
   "source": [
    "# Assemble into DataFrame\n",
    "\n",
    "# Display results\n"
   ]
  },
  {
   "cell_type": "markdown",
   "metadata": {},
   "source": [
    "## Scores by School Size"
   ]
  },
  {
   "cell_type": "code",
   "execution_count": null,
   "metadata": {},
   "outputs": [],
   "source": [
    "# Establish the bins.\n"
   ]
  },
  {
   "cell_type": "code",
   "execution_count": null,
   "metadata": {},
   "outputs": [],
   "source": [
    "# Create a copy of the school summary for later aggregations\n"
   ]
  },
  {
   "cell_type": "code",
   "execution_count": null,
   "metadata": {},
   "outputs": [],
   "source": [
    "# Use `pd.cut` on the per_school_counts Series from earlier to categorize school size based on the bins.\n",
    "\n",
    "# Convert School Size to a string\n"
   ]
  },
  {
   "cell_type": "code",
   "execution_count": null,
   "metadata": {},
   "outputs": [],
   "source": [
    "# Calculate averages for the desired columns.\n"
   ]
  },
  {
   "cell_type": "code",
   "execution_count": null,
   "metadata": {},
   "outputs": [],
   "source": [
    "# Create a DataFrame called `size_summary` that breaks down school performance based on school size (small, medium, or large).\n",
    "# Use the scores above to create a new DataFrame called `size_summary`\n",
    "\n",
    "# Display results\n"
   ]
  },
  {
   "cell_type": "markdown",
   "metadata": {},
   "source": [
    "## Scores by School Type"
   ]
  },
  {
   "cell_type": "code",
   "execution_count": null,
   "metadata": {},
   "outputs": [],
   "source": [
    "# Group the per_school_summary DataFrame by \"School Type\" and average the results.\n"
   ]
  },
  {
   "cell_type": "code",
   "execution_count": null,
   "metadata": {},
   "outputs": [],
   "source": [
    "# Assemble the new data by type into a DataFrame called `type_summary`\n",
    "\n",
    "# Display results\n"
   ]
  }
 ],
 "metadata": {
  "kernelspec": {
   "display_name": "base",
   "language": "python",
   "name": "python3"
  },
  "language_info": {
   "codemirror_mode": {
    "name": "ipython",
    "version": 3
   },
   "file_extension": ".py",
   "mimetype": "text/x-python",
   "name": "python",
   "nbconvert_exporter": "python",
   "pygments_lexer": "ipython3",
   "version": "3.12.7"
  }
 },
 "nbformat": 4,
 "nbformat_minor": 2
}
